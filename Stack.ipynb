{
 "cells": [
  {
   "cell_type": "markdown",
   "id": "5b4686b2",
   "metadata": {},
   "source": [
    "### Stack Test Cases — Best / Average / Worst\n",
    "\n",
    "For a stack:\n",
    "\n",
    "Best-case push/pop: top element → O(1)\n",
    "\n",
    "Average-case pop: middle element? (but stacks are LIFO → only top is accessible, so all pops are effectively O(1))\n",
    "\n",
    "Worst-case pop: empty stack → raises exception\n",
    "\n",
    "We can simulate bulk operations to show performance differences."
   ]
  },
  {
   "cell_type": "code",
   "execution_count": 1,
   "id": "d7f1c87c",
   "metadata": {},
   "outputs": [],
   "source": [
    "# Node class for stack\n",
    "class Node:\n",
    "    def __init__(self, data):\n",
    "        self.data = data\n",
    "        self.next = None\n",
    "\n"
   ]
  },
  {
   "cell_type": "code",
   "execution_count": 2,
   "id": "6b0baf7c",
   "metadata": {},
   "outputs": [],
   "source": [
    "# Stack class\n",
    "class Stack:\n",
    "    def __init__(self):\n",
    "        self.top = None\n",
    "        self._size = 0\n",
    "\n",
    "    def is_empty(self):\n",
    "        return self.top is None\n",
    "\n",
    "    def push(self, data):\n",
    "        new_node = Node(data)\n",
    "        new_node.next = self.top\n",
    "        self.top = new_node\n",
    "        self._size += 1\n",
    "\n",
    "    def pop(self):\n",
    "        if self.is_empty():\n",
    "            raise IndexError(\"pop from empty stack\")\n",
    "        removed_data = self.top.data\n",
    "        self.top = self.top.next\n",
    "        self._size -= 1\n",
    "        return removed_data\n",
    "\n",
    "    def peek(self):\n",
    "        if self.is_empty():\n",
    "            return None\n",
    "        return self.top.data\n",
    "\n",
    "    def size(self):\n",
    "        return self._size\n",
    "\n",
    "    def __repr__(self):\n",
    "        cur = self.top\n",
    "        out = []\n",
    "        while cur:\n",
    "            out.append(cur.data)\n",
    "            cur = cur.next\n",
    "        return \"Stack([\" + \", \".join(repr(x) for x in out) + \"])\"\n"
   ]
  },
  {
   "cell_type": "code",
   "execution_count": 3,
   "id": "91179986",
   "metadata": {},
   "outputs": [
    {
     "name": "stdout",
     "output_type": "stream",
     "text": [
      "Stack — best / avg / worst\n",
      "Best: pop() -> 50, time=0.000004s\n",
      "Average: pop() -> 999, time=0.000002s\n",
      "Worst: pop() -> 9999, time=0.000001s\n"
     ]
    }
   ],
   "source": [
    "import time\n",
    "\n",
    "# Prepare stacks\n",
    "stack_best = Stack()\n",
    "for x in [10, 20, 30, 40, 50]:  # small stack\n",
    "    stack_best.push(x)\n",
    "\n",
    "stack_avg = Stack()\n",
    "for x in range(1000):           # medium stack\n",
    "    stack_avg.push(x)\n",
    "\n",
    "stack_worst = Stack()\n",
    "for x in range(10000):          # large stack\n",
    "    stack_worst.push(x)\n",
    "\n",
    "# Timing helper\n",
    "def time_pop(stack, label):\n",
    "    t0 = time.perf_counter()\n",
    "    val = stack.pop()\n",
    "    t1 = time.perf_counter()\n",
    "    print(f\"{label}: pop() -> {val}, time={(t1-t0):.6f}s\")\n",
    "\n",
    "print(\"Stack — best / avg / worst\")\n",
    "time_pop(stack_best, \"Best\")   # pop top of small stack\n",
    "time_pop(stack_avg, \"Average\") # pop top of medium stack\n",
    "time_pop(stack_worst, \"Worst\") # pop top of large stack\n"
   ]
  },
  {
   "cell_type": "markdown",
   "id": "319cee94",
   "metadata": {},
   "source": [
    "Array-based stack is simpler and faster in Python because list.append() and list.pop() are O(1) amortized.\n",
    "\n",
    "The timing format is consistent with your LinkedList Stack tests.\n",
    "\n",
    "Worst-case in Python lists could happen during resizing when the array grows, but that’s rare and amortized over many operations."
   ]
  },
  {
   "cell_type": "code",
   "execution_count": 4,
   "id": "95cdb704",
   "metadata": {},
   "outputs": [],
   "source": [
    "#  Stakk using dynamic array (Python list)\n",
    "class ArrayStack:\n",
    "    def __init__(self):\n",
    "        self.items = []\n",
    "\n",
    "    def is_empty(self):\n",
    "        return len(self.items) == 0\n",
    "\n",
    "    def push(self, data):\n",
    "        self.items.append(data)  # O(1) amortized\n",
    "\n",
    "    def pop(self):\n",
    "        if self.is_empty():\n",
    "            raise IndexError(\"pop from empty stack\")\n",
    "        return self.items.pop()   # O(1)\n",
    "\n",
    "    def peek(self):\n",
    "        if self.is_empty():\n",
    "            return None\n",
    "        return self.items[-1]\n",
    "\n",
    "    def size(self):\n",
    "        return len(self.items)\n",
    "\n",
    "    def __repr__(self):\n",
    "        return \"ArrayStack([\" + \", \".join(repr(x) for x in reversed(self.items)) + \"])\"\n",
    "\n"
   ]
  },
  {
   "cell_type": "code",
   "execution_count": 5,
   "id": "1ca08248",
   "metadata": {},
   "outputs": [
    {
     "name": "stdout",
     "output_type": "stream",
     "text": [
      "ArrayStack — best / avg / worst\n",
      "Best: pop() -> 50, time=0.000004s\n",
      "Average: pop() -> 999, time=0.000002s\n",
      "Worst: pop() -> 9999, time=0.000001s\n"
     ]
    }
   ],
   "source": [
    "import time\n",
    "\n",
    "# Prepare stacks\n",
    "array_stack_best = ArrayStack()\n",
    "for x in [10, 20, 30, 40, 50]:\n",
    "    array_stack_best.push(x)\n",
    "\n",
    "array_stack_avg = ArrayStack()\n",
    "for x in range(1000):\n",
    "    array_stack_avg.push(x)\n",
    "\n",
    "array_stack_worst = ArrayStack()\n",
    "for x in range(10000):\n",
    "    array_stack_worst.push(x)\n",
    "\n",
    "# Timing helper\n",
    "def time_pop(stack, label):\n",
    "    t0 = time.perf_counter()\n",
    "    val = stack.pop()\n",
    "    t1 = time.perf_counter()\n",
    "    print(f\"{label}: pop() -> {val}, time={(t1-t0):.6f}s\")\n",
    "\n",
    "print(\"ArrayStack — best / avg / worst\")\n",
    "time_pop(array_stack_best, \"Best\")   # pop top of small stack\n",
    "time_pop(array_stack_avg, \"Average\") # pop top of medium stack\n",
    "time_pop(array_stack_worst, \"Worst\") # pop top of large stack\n"
   ]
  },
  {
   "cell_type": "markdown",
   "id": "b0a9f09c",
   "metadata": {},
   "source": [
    "### Performing DFS using STACK class"
   ]
  },
  {
   "cell_type": "code",
   "execution_count": 6,
   "id": "5e5846be",
   "metadata": {},
   "outputs": [],
   "source": [
    "graph = {\n",
    "    0: [1, 2],\n",
    "    1: [0, 3, 4],\n",
    "    2: [0, 5],\n",
    "    3: [1],\n",
    "    4: [1, 5],\n",
    "    5: [2, 4]\n",
    "}\n"
   ]
  },
  {
   "cell_type": "markdown",
   "id": "2b46e07a",
   "metadata": {},
   "source": [
    "Pushing neighbors in reversed order ensures the traversal order matches typical DFS order from left to right.\n",
    "\n",
    "Iterative DFS is generally more memory-safe than recursive DFS on large graphs."
   ]
  },
  {
   "cell_type": "code",
   "execution_count": null,
   "id": "ff9842e4",
   "metadata": {},
   "outputs": [
    {
     "name": "stdout",
     "output_type": "stream",
     "text": [
      "DFS traversal using LinkedList Stack: [0, 1, 3, 4, 5, 2]\n"
     ]
    }
   ],
   "source": [
    "\n",
    "\n",
    "def dfs_linked_stack(graph, start):\n",
    "    visited = set()\n",
    "    stack = Stack()          # linked-list stack\n",
    "    stack.push(start)\n",
    "    \n",
    "    order = []               # traversal order\n",
    "    \n",
    "    while not stack.is_empty():\n",
    "        node = stack.pop()\n",
    "        if node not in visited:\n",
    "            visited.add(node)\n",
    "            order.append(node)\n",
    "            # Push neighbors in reverse for natural order (optional)\n",
    "            for neighbor in reversed(graph[node]):\n",
    "                if neighbor not in visited:\n",
    "                    stack.push(neighbor)\n",
    "    return order\n",
    "\n",
    "# Run DFS\n",
    "dfs_order = dfs_linked_stack(graph, 0)\n",
    "print(\"DFS traversal using LinkedList Stack:\", dfs_order)\n"
   ]
  },
  {
   "cell_type": "code",
   "execution_count": null,
   "id": "68459b02",
   "metadata": {},
   "outputs": [],
   "source": []
  }
 ],
 "metadata": {
  "kernelspec": {
   "display_name": "Python 3",
   "language": "python",
   "name": "python3"
  },
  "language_info": {
   "codemirror_mode": {
    "name": "ipython",
    "version": 3
   },
   "file_extension": ".py",
   "mimetype": "text/x-python",
   "name": "python",
   "nbconvert_exporter": "python",
   "pygments_lexer": "ipython3",
   "version": "3.11.2"
  }
 },
 "nbformat": 4,
 "nbformat_minor": 5
}
