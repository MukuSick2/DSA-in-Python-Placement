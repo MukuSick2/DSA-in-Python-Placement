{
 "cells": [
  {
   "cell_type": "markdown",
   "id": "653b6afe",
   "metadata": {},
   "source": [
    "All enqueue/dequeue operations are O(1) in a linked-list queue.\n",
    "\n",
    "Peek is O(1).\n",
    "\n",
    "“Worst-case” in practice is dequeue from empty queue, which raises an exception."
   ]
  },
  {
   "cell_type": "code",
   "execution_count": 1,
   "id": "02136347",
   "metadata": {},
   "outputs": [],
   "source": [
    "class Node:\n",
    "    def __init__(self, data):\n",
    "        self.data = data\n",
    "        self.next = None\n",
    "\n"
   ]
  },
  {
   "cell_type": "code",
   "execution_count": 3,
   "id": "e21b9632",
   "metadata": {},
   "outputs": [],
   "source": [
    "class Queue:\n",
    "    def __init__(self):\n",
    "        self.front = None  # points to head\n",
    "        self.rear = None   # points to tail\n",
    "        self._size = 0\n",
    "\n",
    "    def is_empty(self):\n",
    "        return self.front is None\n",
    "\n",
    "    def enqueue(self, data):\n",
    "        new_node = Node(data)\n",
    "        if self.rear:\n",
    "            self.rear.next = new_node\n",
    "        self.rear = new_node\n",
    "        if self._size == 0:\n",
    "            self.front = new_node\n",
    "        self._size += 1\n",
    "\n",
    "    def dequeue(self):\n",
    "        if self.is_empty():\n",
    "            raise IndexError(\"dequeue from empty queue\")\n",
    "        removed_data = self.front.data\n",
    "        self.front = self.front.next\n",
    "        self._size -= 1\n",
    "        if self.front is None:\n",
    "            self.rear = None\n",
    "        return removed_data\n",
    "\n",
    "    def peek(self):\n",
    "        if self.is_empty():\n",
    "            return None\n",
    "        return self.front.data\n",
    "\n",
    "    def size(self):\n",
    "        return self._size\n",
    "\n",
    "    def __repr__(self):\n",
    "        cur = self.front\n",
    "        out = []\n",
    "        while cur:\n",
    "            out.append(cur.data)\n",
    "            cur = cur.next\n",
    "        return \"Queue([\" + \", \".join(repr(x) for x in out) + \"])\"\n",
    "    def __len__(self):\n",
    "        return self._size\n",
    "    def __iter__(self):\n",
    "        cur = self.front\n",
    "        while cur:\n",
    "            yield cur.data\n",
    "            cur = cur.next\n",
    "    def __reversed__(self):\n",
    "        stack = []\n",
    "        cur = self.front\n",
    "        while cur:\n",
    "            stack.append(cur.data)\n",
    "            cur = cur.next\n",
    "        while stack:\n",
    "            yield stack.pop()\n",
    "    def clear(self):\n",
    "        self.front = None\n",
    "        self.rear = None\n",
    "        self._size = 0\n",
    "    def to_list(self):\n",
    "        return list(self)\n"
   ]
  },
  {
   "cell_type": "code",
   "execution_count": null,
   "id": "bf671f6d",
   "metadata": {},
   "outputs": [
    {
     "name": "stdout",
     "output_type": "stream",
     "text": [
      "Queue — best / avg / worst\n",
      "Best: dequeue() -> 10, time=0.000003s\n",
      "Average: dequeue() -> 0, time=0.000001s\n",
      "Worst: dequeue() -> 0, time=0.000001s\n"
     ]
    }
   ],
   "source": [
    "import time\n",
    "\n",
    "# Prepare queues\n",
    "queue_best = Queue()\n",
    "for x in [10, 20, 30, 40, 50]:\n",
    "    queue_best.enqueue(x)\n",
    "\n",
    "queue_avg = Queue()\n",
    "for x in range(1000):\n",
    "    queue_avg.enqueue(x)\n",
    "\n",
    "queue_worst = Queue()\n",
    "for x in range(10000):\n",
    "    queue_worst.enqueue(x)\n",
    "\n",
    "# Timing helper\n",
    "def time_dequeue(queue, label):\n",
    "    t0 = time.perf_counter()\n",
    "    val = queue.dequeue()\n",
    "    t1 = time.perf_counter()\n",
    "    print(f\"{label}: dequeue() -> {val}, time={(t1-t0):.6f}s\")\n",
    "\n",
    "print(\"Queue — best / avg / worst\")\n",
    "time_dequeue(queue_best, \"Best\")   # small queue\n",
    "time_dequeue(queue_avg, \"Average\") # medium queue\n",
    "time_dequeue(queue_worst, \"Worst\") # large queue\n",
    "\n"
   ]
  },
  {
   "cell_type": "markdown",
   "id": "dc6528c2",
   "metadata": {},
   "source": []
  },
  {
   "cell_type": "code",
   "execution_count": 21,
   "id": "8d1419cd",
   "metadata": {},
   "outputs": [],
   "source": [
    "graph = {\n",
    "    0: [1, 2],\n",
    "    1: [0, 3, 4],\n",
    "    2: [0, 5],\n",
    "    3: [1],\n",
    "    4: [1, 5],\n",
    "    5: [2, 4]\n",
    "}\n"
   ]
  },
  {
   "cell_type": "markdown",
   "id": "823f0cfe",
   "metadata": {},
   "source": [
    "BFS (Breadth-First Search) using your linked-list-based Queue.\n",
    "\n",
    "We’ll use a graph as adjacency list and traverse it iteratively."
   ]
  },
  {
   "cell_type": "code",
   "execution_count": 23,
   "id": "d948bd97",
   "metadata": {},
   "outputs": [],
   "source": [
    "graph = {\n",
    "    0: [1, 2],\n",
    "    1: [0, 3, 4],\n",
    "    2: [0, 5],\n",
    "    3: [1],\n",
    "    4: [1, 5],\n",
    "    5: [2, 4]\n",
    "}\n"
   ]
  },
  {
   "cell_type": "markdown",
   "id": "961d4a6f",
   "metadata": {},
   "source": [
    "BFS explores nodes level by level, unlike DFS.\n",
    "\n",
    "Using a linked-list queue ensures O(1) enqueue and dequeue, even for large graphs.\n",
    "\n",
    "The traversal order may vary slightly depending on the order neighbors are iterated in the adjacency list."
   ]
  },
  {
   "cell_type": "code",
   "execution_count": 24,
   "id": "78c74154",
   "metadata": {},
   "outputs": [
    {
     "name": "stdout",
     "output_type": "stream",
     "text": [
      "BFS traversal using LinkedList Queue: [0, 1, 2, 3, 4, 5]\n"
     ]
    }
   ],
   "source": [
    "def bfs_linked_queue(graph, start):\n",
    "    visited = set()\n",
    "    queue = Queue()       # linked-list queue\n",
    "    queue.enqueue(start)\n",
    "    \n",
    "    order = []            # traversal order\n",
    "    \n",
    "    while not queue.is_empty():\n",
    "        node = queue.dequeue()\n",
    "        if node not in visited:\n",
    "            visited.add(node)\n",
    "            order.append(node)\n",
    "            # Enqueue all unvisited neighbors\n",
    "            for neighbor in graph[node]:\n",
    "                if neighbor not in visited:\n",
    "                    queue.enqueue(neighbor)\n",
    "    return order\n",
    "\n",
    "# Run BFS\n",
    "bfs_order = bfs_linked_queue(graph, 0)\n",
    "print(\"BFS traversal using LinkedList Queue:\", bfs_order)\n"
   ]
  },
  {
   "cell_type": "code",
   "execution_count": null,
   "id": "214c688f",
   "metadata": {},
   "outputs": [],
   "source": []
  }
 ],
 "metadata": {
  "kernelspec": {
   "display_name": "Python 3",
   "language": "python",
   "name": "python3"
  },
  "language_info": {
   "codemirror_mode": {
    "name": "ipython",
    "version": 3
   },
   "file_extension": ".py",
   "mimetype": "text/x-python",
   "name": "python",
   "nbconvert_exporter": "python",
   "pygments_lexer": "ipython3",
   "version": "3.11.2"
  }
 },
 "nbformat": 4,
 "nbformat_minor": 5
}
