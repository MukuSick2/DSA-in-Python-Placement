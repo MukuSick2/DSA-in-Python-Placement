{
 "cells": [
  {
   "cell_type": "code",
   "execution_count": 1,
   "id": "28d29996",
   "metadata": {},
   "outputs": [],
   "source": [
    "class TreeNode:\n",
    "    def __init__(self, data):\n",
    "        self.data = data\n",
    "        self.left = None\n",
    "        self.right = None\n",
    "\n",
    "    def __repr__(self):\n",
    "        return f\"TreeNode({self.data})\"\n"
   ]
  },
  {
   "cell_type": "code",
   "execution_count": null,
   "id": "74f9edfa",
   "metadata": {},
   "outputs": [],
   "source": [
    "class BinarySearchTree:\n",
    "    def __init__(self):\n",
    "        self.root = None\n",
    "\n",
    "    # Insert node into BST\n",
    "    def insert(self, data):\n",
    "        if self.root is None:\n",
    "            self.root = TreeNode(data)\n",
    "        else:\n",
    "            self._insert(self.root, data)\n",
    "\n",
    "    def _insert(self, node, data):\n",
    "        if data < node.data:\n",
    "            if node.left is None:\n",
    "                node.left = TreeNode(data)\n",
    "            else:\n",
    "                self._insert(node.left, data)\n",
    "        else:  # allow duplicates on right\n",
    "            if node.right is None:\n",
    "                node.right = TreeNode(data)\n",
    "            else:\n",
    "                self._insert(node.right, data)\n",
    "\n",
    "    # Search in BST\n",
    "    def search(self, data):\n",
    "        return self._search(self.root, data)\n",
    "\n",
    "    def _search(self, node, data):\n",
    "        if node is None:\n",
    "            return None\n",
    "        if node.data == data:\n",
    "            return node\n",
    "        elif data < node.data:\n",
    "            return self._search(node.left, data)\n",
    "        else:\n",
    "            return self._search(node.right, data)\n",
    "\n",
    "    # Inorder Traversal (LNR)\n",
    "    def inorder(self):\n",
    "        return self._inorder(self.root)\n",
    "\n",
    "    def _inorder(self, node):\n",
    "        if node is None:\n",
    "            return []\n",
    "        return self._inorder(node.left) + [node.data] + self._inorder(node.right)\n",
    "\n",
    "    # Preorder Traversal (NLR)\n",
    "    def preorder(self):\n",
    "        return self._preorder(self.root)\n",
    "\n",
    "    def _preorder(self, node):\n",
    "        if node is None:\n",
    "            return []\n",
    "        return [node.data] + self._preorder(node.left) + self._preorder(node.right)\n",
    "\n",
    "    # Postorder Traversal (LRN)\n",
    "    def postorder(self):\n",
    "        return self._postorder(self.root)\n",
    "\n",
    "    def _postorder(self, node):\n",
    "        if node is None:\n",
    "            return []\n",
    "        return self._postorder(node.left) + self._postorder(node.right) + [node.data]\n"
   ]
  },
  {
   "cell_type": "markdown",
   "id": "97baad3f",
   "metadata": {},
   "source": [
    "Best case: search root → O(1)\n",
    "\n",
    "Average case: search middle node → ~O(log n) for balanced BST\n",
    "\n",
    "Worst case: search leaf → O(h) where h = height of tree"
   ]
  },
  {
   "cell_type": "code",
   "execution_count": null,
   "id": "2084bfda",
   "metadata": {},
   "outputs": [
    {
     "name": "stdout",
     "output_type": "stream",
     "text": [
      "BST Search — best / average / worst\n",
      "Best: search(50) -> 50, time=0.000001s\n",
      "Average: search(60) -> 60, time=0.000001s\n",
      "Worst: search(20) -> 20, time=0.000001s\n"
     ]
    }
   ],
   "source": []
  },
  {
   "cell_type": "markdown",
   "id": "bf0de1df",
   "metadata": {},
   "source": [
    "### traversals\n",
    "Inorder Iterative uses a single stack and a pointer cur.\n",
    "\n",
    "Preorder Iterative pushes right first so left child is processed first.\n",
    "\n",
    "Postorder Iterative commonly uses two stacks or a single stack with a visited flag."
   ]
  },
  {
   "cell_type": "code",
   "execution_count": 6,
   "id": "bc3358c4",
   "metadata": {},
   "outputs": [],
   "source": [
    "def inorder_iterative(root):\n",
    "    stack = []\n",
    "    cur = root\n",
    "    result = []\n",
    "    \n",
    "    while cur or stack:\n",
    "        while cur:\n",
    "            stack.append(cur)\n",
    "            cur = cur.left\n",
    "        cur = stack.pop()\n",
    "        result.append(cur.data)\n",
    "        cur = cur.right\n",
    "    \n",
    "    return result\n"
   ]
  },
  {
   "cell_type": "code",
   "execution_count": 7,
   "id": "12d22d0d",
   "metadata": {},
   "outputs": [],
   "source": [
    "def preorder_iterative(root):\n",
    "    if not root:\n",
    "        return []\n",
    "    \n",
    "    stack = [root]\n",
    "    result = []\n",
    "    \n",
    "    while stack:\n",
    "        node = stack.pop()\n",
    "        result.append(node.data)\n",
    "        # Push right first so left is processed first\n",
    "        if node.right:\n",
    "            stack.append(node.right)\n",
    "        if node.left:\n",
    "            stack.append(node.left)\n",
    "    \n",
    "    return result\n"
   ]
  },
  {
   "cell_type": "code",
   "execution_count": 8,
   "id": "33649824",
   "metadata": {},
   "outputs": [],
   "source": [
    "def postorder_iterative(root):\n",
    "    if not root:\n",
    "        return []\n",
    "    \n",
    "    stack1 = [root]\n",
    "    stack2 = []\n",
    "    result = []\n",
    "    \n",
    "    while stack1:\n",
    "        node = stack1.pop()\n",
    "        stack2.append(node)\n",
    "        if node.left:\n",
    "            stack1.append(node.left)\n",
    "        if node.right:\n",
    "            stack1.append(node.right)\n",
    "    \n",
    "    while stack2:\n",
    "        result.append(stack2.pop().data)\n",
    "    \n",
    "    return result\n"
   ]
  },
  {
   "cell_type": "code",
   "execution_count": 9,
   "id": "dd17307a",
   "metadata": {},
   "outputs": [
    {
     "name": "stdout",
     "output_type": "stream",
     "text": [
      "Iterative Inorder: [20, 30, 40, 50, 60, 70, 80]\n",
      "Iterative Preorder: [50, 30, 20, 40, 70, 60, 80]\n",
      "Iterative Postorder: [20, 40, 30, 60, 80, 70, 50]\n"
     ]
    }
   ],
   "source": [
    "# Using previous BST\n",
    "bst = BinarySearchTree()\n",
    "for val in [50, 30, 70, 20, 40, 60, 80]:\n",
    "    bst.insert(val)\n",
    "\n",
    "print(\"Iterative Inorder:\", inorder_iterative(bst.root))     # [20,30,40,50,60,70,80]\n",
    "print(\"Iterative Preorder:\", preorder_iterative(bst.root))   # [50,30,20,40,70,60,80]\n",
    "print(\"Iterative Postorder:\", postorder_iterative(bst.root)) # [20,40,30,60,80,70,50]\n"
   ]
  },
  {
   "cell_type": "markdown",
   "id": "48e7115d",
   "metadata": {},
   "source": [
    "### Level Order traversal"
   ]
  },
  {
   "cell_type": "markdown",
   "id": "65cf99d3",
   "metadata": {},
   "source": [
    "Queue ensures O(1) enqueue/dequeue per node.\n",
    "\n",
    "Traverses tree level by level: first root, then all nodes at depth 1, depth 2, etc.\n",
    "\n",
    "Can be extended to:\n",
    "\n",
    "Level sums\n",
    "\n",
    "Zig-zag traversal\n",
    "\n",
    "Max width of tree"
   ]
  },
  {
   "cell_type": "code",
   "execution_count": 10,
   "id": "b6173dbf",
   "metadata": {},
   "outputs": [],
   "source": [
    "class Node:\n",
    "    def __init__(self, data):\n",
    "        self.data = data\n",
    "        self.next = None\n"
   ]
  },
  {
   "cell_type": "code",
   "execution_count": 11,
   "id": "86935867",
   "metadata": {},
   "outputs": [],
   "source": [
    "class Queue:\n",
    "    def __init__(self):\n",
    "        self.front = None  # points to head\n",
    "        self.rear = None   # points to tail\n",
    "        self._size = 0\n",
    "\n",
    "    def is_empty(self):\n",
    "        return self.front is None\n",
    "\n",
    "    def enqueue(self, data):\n",
    "        new_node = Node(data)\n",
    "        if self.rear:\n",
    "            self.rear.next = new_node\n",
    "        self.rear = new_node\n",
    "        if self._size == 0:\n",
    "            self.front = new_node\n",
    "        self._size += 1\n",
    "\n",
    "    def dequeue(self):\n",
    "        if self.is_empty():\n",
    "            raise IndexError(\"dequeue from empty queue\")\n",
    "        removed_data = self.front.data\n",
    "        self.front = self.front.next\n",
    "        self._size -= 1\n",
    "        if self.front is None:\n",
    "            self.rear = None\n",
    "        return removed_data\n",
    "\n",
    "    def peek(self):\n",
    "        if self.is_empty():\n",
    "            return None\n",
    "        return self.front.data\n",
    "\n",
    "    def size(self):\n",
    "        return self._size\n",
    "\n",
    "    def __repr__(self):\n",
    "        cur = self.front\n",
    "        out = []\n",
    "        while cur:\n",
    "            out.append(cur.data)\n",
    "            cur = cur.next\n",
    "        return \"Queue([\" + \", \".join(repr(x) for x in out) + \"])\"\n",
    "    def __len__(self):\n",
    "        return self._size\n",
    "    def __iter__(self):\n",
    "        cur = self.front\n",
    "        while cur:\n",
    "            yield cur.data\n",
    "            cur = cur.next\n",
    "    def __reversed__(self):\n",
    "        stack = []\n",
    "        cur = self.front\n",
    "        while cur:\n",
    "            stack.append(cur.data)\n",
    "            cur = cur.next\n",
    "        while stack:\n",
    "            yield stack.pop()\n",
    "    def clear(self):\n",
    "        self.front = None\n",
    "        self.rear = None\n",
    "        self._size = 0\n",
    "    def to_list(self):\n",
    "        return list(self)\n"
   ]
  },
  {
   "cell_type": "code",
   "execution_count": 12,
   "id": "95dfaac3",
   "metadata": {},
   "outputs": [],
   "source": [
    "def level_order_traversal(root):\n",
    "    if not root:\n",
    "        return []\n",
    "    \n",
    "    queue = Queue()  \n",
    "    result = []\n",
    "    queue.enqueue(root)\n",
    "    \n",
    "    while not queue.is_empty():\n",
    "        node = queue.dequeue()\n",
    "        result.append(node.data)\n",
    "        if node.left:\n",
    "            queue.enqueue(node.left)\n",
    "        if node.right:\n",
    "            queue.enqueue(node.right)\n",
    "    \n",
    "    return result\n"
   ]
  },
  {
   "cell_type": "code",
   "execution_count": 13,
   "id": "3cdb29f7",
   "metadata": {},
   "outputs": [
    {
     "name": "stdout",
     "output_type": "stream",
     "text": [
      "Level-order traversal (BFS): [50, 30, 70, 20, 40, 60, 80]\n"
     ]
    }
   ],
   "source": [
    "# Using previous BST\n",
    "bst = BinarySearchTree()\n",
    "for val in [50, 30, 70, 20, 40, 60, 80]:\n",
    "    bst.insert(val)\n",
    "\n",
    "print(\"Level-order traversal (BFS):\", level_order_traversal(bst.root))\n"
   ]
  },
  {
   "cell_type": "code",
   "execution_count": null,
   "id": "f0898e36",
   "metadata": {},
   "outputs": [],
   "source": []
  }
 ],
 "metadata": {
  "kernelspec": {
   "display_name": "Python 3",
   "language": "python",
   "name": "python3"
  },
  "language_info": {
   "codemirror_mode": {
    "name": "ipython",
    "version": 3
   },
   "file_extension": ".py",
   "mimetype": "text/x-python",
   "name": "python",
   "nbconvert_exporter": "python",
   "pygments_lexer": "ipython3",
   "version": "3.11.2"
  }
 },
 "nbformat": 4,
 "nbformat_minor": 5
}
